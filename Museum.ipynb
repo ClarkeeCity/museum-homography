{
  "nbformat": 4,
  "nbformat_minor": 0,
  "metadata": {
    "colab": {
      "provenance": [],
      "collapsed_sections": [
        "YAv7Bwb6ZsWN"
      ]
    },
    "kernelspec": {
      "name": "python3",
      "display_name": "Python 3"
    },
    "language_info": {
      "name": "python"
    }
  },
  "cells": [
    {
      "cell_type": "markdown",
      "source": [
        "## Documentation, Imports, and Functions\n",
        "*   [Numpy](https://www.numpy.org/) is an array manipulation library, used for linear algebra, Fourier transform, and random number capabilities.\n",
        "*   [Pandas](https://pandas.pydata.org/) is a library for data manipulation and data analysis.\n",
        "*   [CV2](https://opencv-python-tutroals.readthedocs.io/en/latest/py_tutorials/py_gui/py_image_display/py_image_display.html) is a library for computer vision tasks.\n",
        "*   [Skimage](https://scikit-image.org/) is a library which supports image processing applications on python.\n",
        "*   [Matplotlib](https://matplotlib.org/) is a library which generates figures and provides graphical user interface toolkit."
      ],
      "metadata": {
        "id": "vn81Hy9xuTLI"
      }
    },
    {
      "cell_type": "code",
      "source": [
        "import numpy as np\n",
        "import pandas as pd\n",
        "import cv2 as cv\n",
        "from google.colab.patches import cv2_imshow # for image display\n",
        "from skimage import io\n",
        "from PIL import Image\n",
        "import matplotlib\n",
        "import matplotlib.pylab as plt\n",
        "import math\n",
        "import scipy.spatial.distance\n",
        "%matplotlib ipympl"
      ],
      "metadata": {
        "id": "d00VyRSjzk9q"
      },
      "execution_count": null,
      "outputs": []
    },
    {
      "cell_type": "markdown",
      "source": [
        "### nearestNeighborInterpolation"
      ],
      "metadata": {
        "id": "YAv7Bwb6ZsWN"
      }
    },
    {
      "cell_type": "code",
      "source": [
        "# nearest Neighbor interpolation\n",
        "def nearestNeighborInterpolation(warpedImage, area2check = 5):\n",
        "  retWarped = np.zeros((warpedImage.shape[0],warpedImage.shape[1],3)).astype(np.uint8)\n",
        "  # loop over the valid area of the warped image\n",
        "  for i in range(area2check, warpedImage.shape[0] - area2check):\n",
        "    for j in range(area2check, warpedImage.shape[1] - area2check):\n",
        "        # check if the pixel has a valid warped value\n",
        "        if warpedImage[i, j, 0] == -1:  #need to look for neighbor\n",
        "            distance = area2check * area2check + 1  # assign a distance larger than any that can be found in the area to check\n",
        "\n",
        "            # loop over all the possible neighbors\n",
        "            for k in range(i - area2check,i + area2check):\n",
        "                for l in range(j - area2check, j + area2check):\n",
        "                    distancetested = (abs(k - i)+ abs(l - j))  # L1 distance\n",
        "                    if warpedImage[k, l, 0] >= 0 and distancetested < distance:    # found a warped point , and it is closest\n",
        "                        distance = distancetested\n",
        "                        retWarped[i, j] = warpedImage[k, l]\n",
        "        else:  #assign the valid warping\n",
        "            retWarped[i, j] = warpedImage[i, j]\n",
        "\n",
        "  return retWarped"
      ],
      "metadata": {
        "id": "jeu5_O2gZ0ff"
      },
      "execution_count": null,
      "outputs": []
    },
    {
      "cell_type": "markdown",
      "source": [
        "## Project"
      ],
      "metadata": {
        "id": "FZrSm2crD7n_"
      }
    },
    {
      "cell_type": "markdown",
      "source": [
        "#### Warp interface (class)\n",
        "General warping interface that contains functions of creating homogrophies and transforming images from two sets of coords."
      ],
      "metadata": {
        "id": "UO4YDI3O0wh6"
      }
    },
    {
      "cell_type": "code",
      "source": [
        "class Warp:\n",
        "  # computeH function from previous homework.\n",
        "    # params im1_pts: nx2[]. Holds (x,y) corspondence points of image1.\n",
        "    # params im2_pts: nx2[]. Holds (x,y) corspondence points of image2.\n",
        "    # return H: a 3x3[] homography.\n",
        "    def __computeH__(self, im1_pts, im2_pts):\n",
        "\n",
        "      if (len(im1_pts) != len(im2_pts)):\n",
        "        return -1;\n",
        "\n",
        "\n",
        "      # Helper function to setup the A matrix.\n",
        "      def setupA(im1_pts, im2_pts):\n",
        "        # Create an array as a boiler plate, with 2n rows and 8 columns for 8 DOF\n",
        "        numberOfPoints = len(im1_pts)\n",
        "        A = -np.ones((numberOfPoints*2, 8))\n",
        "\n",
        "        i = 0 # reference for each set of points\n",
        "        j = 0 # helper pointer to assign x, y mat setup\n",
        "        while (i < numberOfPoints):\n",
        "          x1, y1 = im1_pts[i]\n",
        "          x2, y2 = im2_pts[i]\n",
        "\n",
        "          # setup each coorspondence points \"sub matrix\"\n",
        "          xSetup = np.array([x1, y1, 1, 0, 0, 0, -x2*x1, -x2*y1])\n",
        "          ySetup = np.array([0, 0, 0, x1, y1, 1, -y2*x1, -y2*y1])\n",
        "\n",
        "          A[i + j] = xSetup\n",
        "          A[i + j + 1] = ySetup\n",
        "          j = i + 1\n",
        "          i = i + 1;\n",
        "\n",
        "        return A\n",
        "\n",
        "\n",
        "      # Helper function that creates b.just flattens set of points and transposes them.\n",
        "      # params points: nx2[], Holds (x,y) coords\n",
        "      def setupb(points):\n",
        "        ret = np.array([np.ravel(points)])\n",
        "        return np.transpose(ret)\n",
        "\n",
        "\n",
        "      A = setupA(im1_pts, im2_pts)\n",
        "      b = setupb(im2_pts)\n",
        "      A_trans = np.transpose(A)\n",
        "\n",
        "      pseudoInv_lhs = np.linalg.inv(np.matmul(A_trans, A))\n",
        "      pseudoInv_rhs = np.matmul(A_trans, b)\n",
        "\n",
        "      # to flatten the returned array, we use ravel.\n",
        "      t = np.ravel(np.matmul(pseudoInv_lhs, pseudoInv_rhs))\n",
        "      # THE HOMOGRAPHY!!!\n",
        "      return np.array([[t[0], t[1], t[2]], [t[3], t[4], t[5]], [t[6], t[7], 1]])\n",
        "\n",
        "\n",
        "    # warpImage function from previous homework.\n",
        "    # coordinates: (xmin: int, xmax: int, ymin: int, ymax: int)\n",
        "    def __warpImage__(self, H, coordinates):\n",
        "      xmin, xmax, ymin, ymax = coordinates\n",
        "\n",
        "      # Make an array of [0, 1, ..., image.height()]\n",
        "      i = np.linspace(0, self.image.shape[0]-1, self.image.shape[0]).astype(int)\n",
        "      # Make an array of [0, 1, ..., image.width()]\n",
        "      j = np.linspace(0, self.image.shape[1]-1, self.image.shape[1]).astype(int)\n",
        "      # And here we create the row and column numbers of the image.\n",
        "      yv, xv = np.meshgrid(i, j)\n",
        "      # number of points on the grid, image.width() * image.height().\n",
        "      numpoints = xv.ravel().shape[0]\n",
        "\n",
        "      # extract the color channels\n",
        "      r = self.image[yv.ravel(), xv.ravel(), 0]\n",
        "      g = self.image[yv.ravel(), xv.ravel(), 1]\n",
        "      b = self.image[yv.ravel(), xv.ravel(), 2]\n",
        "\n",
        "      # all the values of x coordinates as a row\n",
        "      x_cord = xv.ravel().reshape((1,numpoints))\n",
        "      # all the values of y coordinates as a row\n",
        "      y_cord = yv.ravel().reshape((1,numpoints))\n",
        "\n",
        "\n",
        "      # and finally, the result of the grid are \"vector\" locations. in homogeneous\n",
        "      grid = np.concatenate((x_cord, y_cord, np.ones((1,numpoints))),axis=0)\n",
        "\n",
        "      # TRANSFORMING THE IMAGE\n",
        "      # Apply the perspective matrix to the set of points of image.\n",
        "      newgrid = np.matmul(H, grid)\n",
        "      newgrid[0] = newgrid[0, :] / newgrid[2, :]    # newgrid[0], newgrid[1]\n",
        "      newgrid[1] = newgrid[1, :] / newgrid[2, :]    # homo -> hetero\n",
        "\n",
        "      # create 2D array of -1's representing empty image\n",
        "      warped = -np.ones((xmax + 1, ymax + 1, 3)).astype(np.int16)\n",
        "      # approximations, considering just the int values.\n",
        "      newgrid2 = newgrid.round().astype(np.int64)\n",
        "\n",
        "      # Defining new range of values.\n",
        "      validX = np.bitwise_and(newgrid[0, :] >= xmin, newgrid2[0, :] < xmax)\n",
        "      validY = np.bitwise_and(newgrid[1, :] >= ymin, newgrid2[1, :] < ymax)\n",
        "      valid =  np.bitwise_and(validX, validY)\n",
        "\n",
        "      # Assign channels repsective colors\n",
        "      warped[newgrid2[1, valid], newgrid2[0, valid], 0] = r[valid]\n",
        "      warped[newgrid2[1, valid], newgrid2[0, valid], 1] = g[valid]\n",
        "      warped[newgrid2[1, valid], newgrid2[0, valid], 2] = b[valid]\n",
        "\n",
        "      return warped;"
      ],
      "metadata": {
        "id": "8TYKbkTdEsyj"
      },
      "execution_count": null,
      "outputs": []
    },
    {
      "cell_type": "markdown",
      "source": [
        "### Interactive\n",
        "\n",
        "An interactive matplotlib graph where a user can click 4 corners on an image, and the image will transform/warp to that new space.\n",
        "\n",
        "I wanted to do something interactive and creative than just a user typing in coordinate points to transform too."
      ],
      "metadata": {
        "id": "n-AtC0vpqRv9"
      }
    },
    {
      "cell_type": "markdown",
      "source": [
        "#### InteractiveWarp class\n",
        "Big shoutout to this documentation: https://matplotlib.org/stable/users/explain/event_handling.html"
      ],
      "metadata": {
        "id": "Nrq0NbQFdFwD"
      }
    },
    {
      "cell_type": "code",
      "source": [
        "class InteractiveWarp(Warp):\n",
        "    # constructor.\n",
        "    def __init__(self, image, coords, pointsNeeded, size):\n",
        "        self.image = np.copy(image.astype(np.float32))\n",
        "        self.coords = coords\n",
        "        self.counter = 0\n",
        "        self.pointsNeeded = pointsNeeded\n",
        "        self.pointFlag = False\n",
        "        self.size = size\n",
        "\n",
        "        self.xs = list(coords.get_xdata())\n",
        "        self.ys = list(coords.get_ydata())\n",
        "        self.cid = coords.figure.canvas.mpl_connect('button_press_event', self)\n",
        "\n",
        "\n",
        "    #region PRIVATE VARIABLES\n",
        "\n",
        "    # Runs when plot is clicked.\n",
        "    def __call__(self, event):\n",
        "      # Check if click was in bounds of click listener.\n",
        "      if self.pointFlag != True:\n",
        "        if  (event.inaxes != self.coords.axes):\n",
        "          return\n",
        "\n",
        "        # Add the point selected to the list.\n",
        "        self.counter = self.counter + 1\n",
        "        self.xs.append(round(event.xdata))  # no floats >:(\n",
        "        self.ys.append(round(event.ydata))\n",
        "        print(event.xdata, event.ydata)\n",
        "\n",
        "        # When total points are fulfilled run the program.\n",
        "        if self.counter == self.pointsNeeded:\n",
        "          self.__createNewView__()\n",
        "\n",
        "        # do nothing when flag has been fulfilled.\n",
        "        else:\n",
        "          return\n",
        "\n",
        "    def __createNewView__(self):\n",
        "      self.pointFlag = True\n",
        "      # points were initialized with 0 at start of list. pop it from list\n",
        "      self.xs.pop(0); self.ys.pop(0)\n",
        "\n",
        "      ###   FUN BEGINS   ########################################################\n",
        "      # Create a set of readable points for the homography transform\n",
        "      coordChoice = np.array(list(zip(self.xs, self.ys)))\n",
        "      coordsToWarpTo = np.array([[0, 0], [self.size, 0], [self.size, self.size], [0, self.size]])\n",
        "\n",
        "      print(\"coordChoice: \", coordChoice)\n",
        "      print(\"coordsToWarpTo: \", coordsToWarpTo)\n",
        "\n",
        "      # create the homography from selected points to new points\n",
        "      warpHomography = self.__computeH__(coordChoice, coordsToWarpTo)\n",
        "      warpedImage = self.__warpImage__(warpHomography, (0, self.size, 0, self.size))\n",
        "\n",
        "      plt.clf()\n",
        "\n",
        "      # smooth result with nearest neighbor.\n",
        "      aaImage = nearestNeighborInterpolation(warpedImage)\n",
        "\n",
        "      plt.imshow(aaImage)\n",
        "\n",
        "    #endregion\n",
        "\n",
        "\n",
        "    #region PUBLIC VARIABLES\n",
        "\n",
        "    # setup plot to have image instanced over it.\n",
        "    def setupPlotImage(self, displayImage):\n",
        "      # make the shape of the plot the size of the image\n",
        "      plt.xlim(0, displayImage.shape[1])\n",
        "      plt.ylim(displayImage.shape[0], 0)\n",
        "\n",
        "      # add an image ontop of figure.\n",
        "      plt.imshow(displayImage)\n",
        "\n",
        "    #endregion"
      ],
      "metadata": {
        "id": "ARDXByTl6hiP"
      },
      "execution_count": null,
      "outputs": []
    },
    {
      "cell_type": "markdown",
      "source": [
        "#### **TO USE:**\n",
        "Click on 4 points within the plot image to transform into another space.\n",
        "\n",
        "* Image 1, select corners of \"center-area\" of the tile flooring to reveal pattern.\n",
        "* Image 1, select 4 corner area of stain glass or statue to reveal detail.\n",
        "\n",
        "* Image 2, select 4 corners of any painting in the meausum to reveal painting.\n",
        "\n",
        "REMEMBER: Top-left, top-right, bottom-right, bottom-left to properly orientate image.\n",
        "\n",
        "\n",
        "\n",
        "When 4 points are selected, just give it a moment to warp and anti-alias! (:"
      ],
      "metadata": {
        "id": "GGTqVB5CdWcw"
      }
    },
    {
      "cell_type": "code",
      "source": [
        "# Setup plot\n",
        "fig, ax = plt.subplots()\n",
        "coords, = ax.plot([0], [0])\n",
        "image1 = io.imread(\"https://i.imgur.com/DDfxZke.jpg\")\n",
        "image2 = io.imread(\"https://media.tacdn.com/media/attractions-content--1x-1/0f/45/f8/44.jpg\")\n",
        "numberOfPoints = 4\n",
        "size = 350\n",
        "\n",
        "\n",
        "# the image here will be the image used for the interactive.\n",
        "image = image2\n",
        "\n",
        "# Instantiate interactive window to select points and create a warped image.\n",
        "points = InteractiveWarp(image, coords, numberOfPoints, size)\n",
        "points.setupPlotImage(image)"
      ],
      "metadata": {
        "id": "XrbKDRr9dMlX"
      },
      "execution_count": null,
      "outputs": []
    }
  ]
}